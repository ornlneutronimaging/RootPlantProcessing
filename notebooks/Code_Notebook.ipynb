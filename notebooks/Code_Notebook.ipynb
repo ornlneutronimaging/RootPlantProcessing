{
 "cells": [
  {
   "cell_type": "markdown",
   "metadata": {},
   "source": [
    "# For default settings:\n",
<<<<<<< HEAD
    "1. Change 'wd' to where the 'Root_Processing' code file is.\n",
    "2. Open 'user_config.txt' file in 'Root_Processing', and change all data address locations to where your data files are."
=======
    "1. Change 'wd' to where the your data files will be.\n",
    "2. Open 'user_config.txt' file, and change all data address locations to where your data files are."
>>>>>>> gh-pages
   ]
  },
  {
   "cell_type": "code",
   "execution_count": null,
   "metadata": {
<<<<<<< HEAD
    "collapsed": false
=======
    "collapsed": true
>>>>>>> gh-pages
   },
   "outputs": [],
   "source": [
    "#Importing sample dataset\n",
<<<<<<< HEAD
    "import sys\n",
    "wd = '/Users/...'  #Specify where you saved your sample data\n",
    "sys.path.append(wd+'/Analyses')\n",
    "sys.path.append(wd+'/Misc')\n",
    "\n",
    "from sampledata import sampledata\n",
    "sampledata(wd)"
   ]
  },
  {
   "cell_type": "code",
   "execution_count": null,
   "metadata": {
    "collapsed": false
   },
   "outputs": [],
   "source": [
    "#Running Code - Default Settings\n",
    "from RP_run import RP_run\n",
=======
    "import rootprocessing\n",
    "wd = '/Users/...'\n",
    "from rootprocessing import sampledata\n",
    "sampledata(wd)\n",
    "\n",
    "#Running Code - Default Settings\n",
    "from rootprocessing import RP_run\n",
>>>>>>> gh-pages
    "analysis_list = [\n",
    "\t'RP_stitch',\n",
    "\t'RP_crop',\n",
    "\t'RP_wc',\n",
    "\t'RP_mask',\n",
    "\t'RP_imagefilter',\n",
    "\t'RP_distmap',\n",
    "\t'RP_radwc',\n",
    "\t'RP_thickness',\n",
    "\t'RP_rootimage',\n",
    "]\n",
    "wd_userconfig = wd+'/Sample_Data'\t#Specify where you saved your user_config file - in case of sample dataset, it is saved together with the data directory\n",
<<<<<<< HEAD
=======
    "\n",
>>>>>>> gh-pages
    "RP_run(wd, analysis_list, wd_userconfig)"
   ]
  }
 ],
 "metadata": {
  "anaconda-cloud": {},
  "kernelspec": {
   "display_name": "Python [Root]",
   "language": "python",
   "name": "Python [Root]"
  },
  "language_info": {
   "codemirror_mode": {
    "name": "ipython",
    "version": 3
   },
   "file_extension": ".py",
   "mimetype": "text/x-python",
   "name": "python",
   "nbconvert_exporter": "python",
   "pygments_lexer": "ipython3",
   "version": "3.5.2"
  }
 },
 "nbformat": 4,
 "nbformat_minor": 0
}
